{
 "cells": [
  {
   "cell_type": "code",
   "execution_count": 5,
   "metadata": {},
   "outputs": [
    {
     "name": "stdout",
     "output_type": "stream",
     "text": [
      "The watermark extension is already loaded. To reload it, use:\n",
      "  %reload_ext watermark\n"
     ]
    }
   ],
   "source": [
    "%matplotlib inline\n",
    "%load_ext watermark\n",
    "\n",
    "import numpy as np\n",
    "import matplotlib.pyplot as plt\n",
    "from IPython import display\n",
    "from scipy.io import loadmat\n",
    "import glob\n",
    "import os\n",
    "import pickle\n",
    "import pandas as pd\n",
    "from PIL import Image\n",
    "import time"
   ]
  },
  {
   "cell_type": "code",
   "execution_count": null,
   "metadata": {},
   "outputs": [],
   "source": [
    "## Import EEG and BOLD-fMRI ICA components\n",
    "\n",
    "good_fmri_ics = np.subtract([10,12,15,23], 0)\n",
    "\n",
    "sweep_comments = [ [] for _ in range(3) ]"
   ]
  },
  {
   "cell_type": "code",
   "execution_count": null,
   "metadata": {},
   "outputs": [],
   "source": [
    "## Load ICA components figures AUTOMATICALLY\n",
    "\n",
    "eeg_im_path = '/Users/dmannk/Documents/Lioi2020-XP1/derivatives/figures/'\n",
    "bold_im_path = '/Users/dmannk/Documents/Lioi2020-XP1/derivatives/group_ica_25ICs_6mm.gica/report/'\n",
    "\n",
    "eeg_im_names = os.listdir(eeg_im_path)\n",
    "eeg_im_names.sort()\n",
    "eeg_ims = []\n",
    "\n",
    "for im in eeg_im_names:\n",
    "    im_file = eeg_im_path + im\n",
    "    print(im_file)\n",
    "    eeg_ims.append( Image.open(im_file) )\n",
    "\n",
    "widths = [im.width for im in eeg_ims]\n",
    "cum_width = np.hstack(( 0 , np.cumsum(widths) ))\n",
    "tot_width = np.sum(widths)\n",
    "height = np.mean([im.height for im in eeg_ims]).astype(int)\n",
    "dst = Image.new('RGB', (tot_width,height) )\n",
    "\n",
    "for i,im in enumerate(eeg_ims):\n",
    "    dst.paste(im, (cum_width[i],0) )\n",
    "    \n",
    "bold_ics = []\n",
    "\n",
    "for ic_label in good_fmri_ics:\n",
    "    im_file = bold_im_path + 'IC_' + str(ic_label+1) + '_thresh.png'\n",
    "    print(im_file)\n",
    "    bold_ics.append( Image.open(im_file) )\n",
    "    \n",
    "plt.figure(figsize=[9.,3.]); plt.imshow(dst); plt.show(); plt.axis('off')\n"
   ]
  },
  {
   "cell_type": "code",
   "execution_count": null,
   "metadata": {},
   "outputs": [],
   "source": [
    "freqs = [4,6,8,10,12,16,20,24,28,32,40,50]"
   ]
  },
  {
   "cell_type": "code",
   "execution_count": null,
   "metadata": {},
   "outputs": [],
   "source": [
    "## Import tensHRF sweep results\n",
    "\n",
    "filename = '/Users/dmannk/Documents/Neurovasc_CC/neurovasc_data_1_16.58_Jan13_2021.pkl'\n",
    "with open(filename, 'rb') as f:\n",
    "    #env_eeg_dwn, bold, fmri_fs, ext = pickle.load(f)\n",
    "    #env_eeg_dwn, bold, fmri_fs, ext, freqs = pickle.load(f)\n",
    "    env_eeg_dwn, bold, fmri_fs, ext, freqs, good_fmri_ics = pickle.load(f)\n",
    "\n",
    "filename = '/Users/dmannk/Documents/Neurovasc_CC/Ps_taus_percs_16.58_Jan13_2021.pkl'\n",
    "with open(filename, 'rb') as f:\n",
    "    data = pickle.load(f)\n",
    "    \n",
    "if len(data) == 10:\n",
    "    print('Ps, taus and percs NOT YET determined')\n",
    "    Ps_taus_percs_best, kern, numComps, corrs, corrs_weighted, Ps_taus_percs, HRFs_sweep, Uchans_sweep, Ufreqs_sweep, Usubjs_sweep = data\n",
    "elif len(data) == 11:\n",
    "    print('Ps, taus and percs ALREADY determined')\n",
    "    Ps_taus_percs_best, kern, numComps, corrs, corrs_weighted, Ps_taus_percs, HRFs_sweep, Uchans_sweep, Ufreqs_sweep, Usubjs_sweep, sweep_comments = data\n",
    "else:\n",
    "    print('Verify pickle file')\n",
    "    "
   ]
  },
  {
   "cell_type": "code",
   "execution_count": null,
   "metadata": {},
   "outputs": [],
   "source": [
    "## Plot BOLD group-ICA components\n",
    "\n",
    "plt.figure(figsize=[24.,36])\n",
    "for i, im in enumerate(bold_ics): \n",
    "    s = plt.subplot(1,bold.shape[-1],i+1); s.set_xticks([]); s.set_yticks([])\n",
    "    plt.imshow(im)\n",
    "plt.show(); plt.tight_layout()"
   ]
  },
  {
   "cell_type": "code",
   "execution_count": null,
   "metadata": {},
   "outputs": [],
   "source": [
    "## Plot tensHRF sweep results\n",
    "\n",
    "for nd in range(len(bold_ics)):\n",
    "\n",
    "    fig = plt.figure(figsize=[18.,8.])\n",
    "    s1 = plt.subplot(221)\n",
    "    s2 = plt.subplot(422)\n",
    "    s3 = plt.subplot(424)\n",
    "    s4 = plt.subplot(223)\n",
    "    s5 = fig.add_subplot(2,9,(15,17))\n",
    "    s6 = plt.subplot(2,9,18)\n",
    "\n",
    "    for i in range(len(Ps_taus_percs)):\n",
    "\n",
    "        plt.suptitle(\"nd={}   -   i={}   -   {} , {:.2} , {}\".format(nd, i, Ps_taus_percs[i][0],Ps_taus_percs[i][1],Ps_taus_percs[i][2]))\n",
    "\n",
    "        hrfs_df = pd.DataFrame(HRFs_sweep[i,:,:,nd])\n",
    "        chans_df = pd.DataFrame(Uchans_sweep[i,:,:,nd])\n",
    "        freqs_df = pd.DataFrame(Ufreqs_sweep[i,:,:,nd], index=freqs)\n",
    "        subjs_df = pd.DataFrame(Usubjs_sweep[i,:,:,nd])\n",
    "\n",
    "        hrfs_df.plot(ax=s1, legend=False); plt.xlabel('Time (s)')\n",
    "        s2.imshow(dst); s2.set_xticks([]); s2.set_yticks([]); s2.axis('off')\n",
    "        chans_df.plot.bar(rot=0, ax=s3, legend=False); s3.set_xticks([]);\n",
    "        freqs_df.plot.bar(rot=0, ax=s4, legend=False); plt.xlabel('Frequency (Hz)')\n",
    "        subjs_df.plot.bar(rot=0, ax=s5, legend=False); plt.xlabel('Subject'); s5.set_title(\"Weighted correlation: {:}\".format(str(corrs_weighted[nd,i,:])))\n",
    "        subjs_df.plot.hist(ax=s6, orientation=\"horizontal\", legend=False, alpha=0.3); s6.set_yticks([])\n",
    "\n",
    "        display.clear_output(wait=True)\n",
    "        display.display(plt.gcf())\n",
    "\n",
    "        #time.sleep(.5)\n",
    "        '''\n",
    "        sweep_comment = input('Write comment for current results, or press Enter to skip ')\n",
    "\n",
    "        if sweep_comment != '':\n",
    "            cmt = str(i) + ' ' + str(Ps_taus_percs[i]) + ' ' + str(corrs_weighted[nd,i,:]) + ' - ' + sweep_comment\n",
    "            sweep_comments[nd].append(cmt)\n",
    "        '''\n",
    "        s1.clear(); s2.clear(); s3.clear(); s4.clear(); s5.clear(); s6.clear()\n",
    "\n",
    "    #plt.draw()\n",
    "    \n",
    "    #plt.clf()\n"
   ]
  },
  {
   "cell_type": "code",
   "execution_count": null,
   "metadata": {},
   "outputs": [],
   "source": [
    "plt.figure()\n",
    "pd.DataFrame(np.max(corrs, axis=0)).plot.bar(figsize=(17,5), legend=False)\n",
    "plt.show()"
   ]
  },
  {
   "cell_type": "code",
   "execution_count": null,
   "metadata": {},
   "outputs": [],
   "source": [
    "for nd in range(4):\n",
    "    tmp = np.where( np.max(corrs, axis=0)[nd,:] == np.max(np.max(corrs, axis=0)[nd,:]) )\n",
    "    print(tmp)"
   ]
  },
  {
   "cell_type": "code",
   "execution_count": null,
   "metadata": {},
   "outputs": [],
   "source": [
    "## Plot tensHRF sweep results\n",
    "\n",
    "nd = 3\n",
    "i = 6\n",
    "\n",
    "fig = plt.figure(figsize=[18.,8.])\n",
    "s1 = plt.subplot(221)\n",
    "s2 = plt.subplot(422)\n",
    "s3 = plt.subplot(424)\n",
    "s4 = plt.subplot(223)\n",
    "s5 = fig.add_subplot(2,9,(15,17))\n",
    "s6 = plt.subplot(2,9,18)\n",
    "\n",
    "    \n",
    "plt.suptitle(\"i={}   -   {} , {:.2} , {}\".format(i, Ps_taus_percs[i][0],Ps_taus_percs[i][1],Ps_taus_percs[i][2]))\n",
    "\n",
    "hrfs_df = pd.DataFrame(HRFs_sweep[i,:,:,nd])\n",
    "chans_df = pd.DataFrame(Uchans_sweep[i,:,:,nd])\n",
    "freqs_df = pd.DataFrame(Ufreqs_sweep[i,:,:,nd], index=freqs)\n",
    "subjs_df = pd.DataFrame(Usubjs_sweep[i,:,:,nd])\n",
    "\n",
    "hrfs_df.plot(ax=s1, legend=False); plt.xlabel('Time (s)')\n",
    "s2.imshow(dst); s2.set_xticks([]); s2.set_yticks([]); s2.axis('off')\n",
    "chans_df.plot.bar(rot=0, ax=s3, legend=False); s3.set_xticks([]);\n",
    "freqs_df.plot.bar(rot=0, ax=s4, legend=False); plt.xlabel('Frequency (Hz)')\n",
    "subjs_df.plot.bar(rot=0, ax=s5, legend=False); plt.xlabel('Subject'); s5.set_title(\"Weighted correlation: {:}\".format(str(corrs_weighted[nd,i,:])))\n",
    "subjs_df.plot.hist(ax=s6, orientation=\"horizontal\", legend=False); s6.set_yticks([])\n",
    "\n",
    "plt.draw()\n"
   ]
  },
  {
   "cell_type": "code",
   "execution_count": null,
   "metadata": {},
   "outputs": [],
   "source": [
    "## Update 'Ps_taus_percs_best'\n",
    "\n",
    "data[0] = [ () , () , () ]"
   ]
  },
  {
   "cell_type": "code",
   "execution_count": null,
   "metadata": {},
   "outputs": [],
   "source": [
    "## Append 'sweep_comments' to list of saved variables and re-pickle / overwrite file\n",
    "\n",
    "confirm = input('Type Y to confirm overwrite of Ps_taus_percs pickle file ')\n",
    "\n",
    "if confirm == 'Y':\n",
    "    print('Overwriting')\n",
    "    data.append(sweep_comments)\n",
    "\n",
    "    with open(filename,'wb') as f:\n",
    "        pickle.dump(data, f)\n",
    "else:\n",
    "    print('Overwrite aborted')"
   ]
  },
  {
   "cell_type": "code",
   "execution_count": 9,
   "metadata": {},
   "outputs": [
    {
     "name": "stdout",
     "output_type": "stream",
     "text": [
      "pandas    : 0.25.3\n",
      "PIL       : 7.0.0\n",
      "matplotlib: 3.1.1\n",
      "IPython   : 7.11.1\n",
      "numpy     : 1.19.5\n",
      "\n",
      "scipy: 1.4.1\n",
      "\n",
      "Watermark: 2.2.0\n",
      "\n"
     ]
    }
   ],
   "source": [
    "%watermark --iversions\n",
    "\n",
    "%watermark -p scipy\n",
    "%watermark --watermark"
   ]
  }
 ],
 "metadata": {
  "kernelspec": {
   "display_name": "Python 3",
   "language": "python",
   "name": "python3"
  },
  "language_info": {
   "codemirror_mode": {
    "name": "ipython",
    "version": 3
   },
   "file_extension": ".py",
   "mimetype": "text/x-python",
   "name": "python",
   "nbconvert_exporter": "python",
   "pygments_lexer": "ipython3",
   "version": "3.7.6"
  }
 },
 "nbformat": 4,
 "nbformat_minor": 4
}
